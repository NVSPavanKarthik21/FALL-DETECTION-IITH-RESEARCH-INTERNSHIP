{
  "nbformat": 4,
  "nbformat_minor": 0,
  "metadata": {
    "colab": {
      "provenance": [],
      "collapsed_sections": []
    },
    "kernelspec": {
      "name": "python3",
      "display_name": "Python 3"
    },
    "language_info": {
      "name": "python"
    }
  },
  "cells": [
    {
      "cell_type": "code",
      "metadata": {
        "id": "Yi-6gPXK9120"
      },
      "source": [
        "import cv2\n",
        "import os\n",
        "import numpy as np\n",
        "import matplotlib.pyplot as plt\n",
        "from google.colab.patches import cv2_imshow\n"
      ],
      "execution_count": null,
      "outputs": []
    },
    {
      "cell_type": "code",
      "metadata": {
        "colab": {
          "base_uri": "https://localhost:8080/"
        },
        "id": "rhoVgZzV-XC9",
        "outputId": "0e8dbde3-341d-4375-cfe0-c025c46f2d18"
      },
      "source": [
        "#Video = cv2.VideoCapture(\"/content/project1.mp4\")\n",
        "Video = cv2.VideoCapture(\"/content/test.mp4\")\n",
        "fps = Video.get(cv2.CAP_PROP_FPS)\n",
        "totalNoFrames =Video.get(cv2.CAP_PROP_FRAME_COUNT);\n",
        "durationInSeconds = float(totalNoFrames) / float(fps)\n",
        "\n",
        "print(\"durationInSeconds: \",durationInSeconds,\"s\")\n",
        "print(\"Total no of frames: \",totalNoFrames)"
      ],
      "execution_count": null,
      "outputs": [
        {
          "output_type": "stream",
          "name": "stdout",
          "text": [
            "durationInSeconds:  8.008000000000001 s\n",
            "Total no of frames:  240.0\n"
          ]
        }
      ]
    },
    {
      "cell_type": "code",
      "metadata": {
        "id": "E4Q_T4RM-XGA"
      },
      "source": [
        "# Closest proximity check function\n",
        "def find_if_close(cnt1,cnt2, d = 10):\n",
        "    x, y, w, h = cv2.boundingRect(cnt1)\n",
        "    coord1 = (x, y, x+w, y+h)\n",
        "    centerCoord1 = np.array((coord1[0] + (coord1[2] / 2), coord1[1] + (coord1[3] / 2)))\n",
        "    x, y, w, h = cv2.boundingRect(cnt2)\n",
        "    coord2 = (x, y, x + w, y + h)\n",
        "    centerCoord2 = np.array((coord2[0] + (coord2[2] / 2), coord2[1] + (coord2[3] / 2)))\n",
        "    \n",
        "    #print('frame = ',framenum)\n",
        "    #print(centerCoord1,end = '\\t')\n",
        "    #print(centerCoord2)\n",
        "    \n",
        "    distance = np.linalg.norm(centerCoord1 - centerCoord2)\n",
        "    #print(\"distance = \" , distance)\n",
        "    #print(\"abs_distance = \" , abs(distance))\n",
        "    if abs(distance) < d:\n",
        "        return True\n",
        "    else:\n",
        "        return False"
      ],
      "execution_count": null,
      "outputs": []
    },
    {
      "cell_type": "code",
      "metadata": {
        "id": "FGreSLJ0-XI4"
      },
      "source": [
        "# Creating a Background Substractor kernel\n",
        "fgbg = cv2.createBackgroundSubtractorKNN(128, cv2.THRESH_BINARY, 1)\n",
        "w_list = []\n",
        "h_list = []\n",
        "framenum = 0;"
      ],
      "execution_count": null,
      "outputs": []
    },
    {
      "cell_type": "code",
      "metadata": {
        "id": "8cHXAMHGdi8v"
      },
      "source": [
        "from PIL import Image"
      ],
      "execution_count": null,
      "outputs": []
    },
    {
      "cell_type": "code",
      "metadata": {
        "id": "I1c7e8kH-XLY"
      },
      "source": [
        "count = 0\n",
        "hw_ratio = []\n",
        "label = []\n",
        "width_list = []\n",
        "for i in range(50) : \n",
        "    print(-1)\n",
        "while(framenum < totalNoFrames):\n",
        "    framenum += 1\n",
        "    # Obtain frame\n",
        "    ret, frame = Video.read()\n",
        "    # Convert the frame into Grey\n",
        "    frame_grey = cv2.cvtColor(frame, cv2.COLOR_BGR2GRAY)\n",
        "    # Blur the the grey frame \n",
        "    frame_blur = cv2.GaussianBlur(frame_grey,(3,3),0) # (img , kernel , sigma(x) value ) , to remove noise or clear blur\n",
        "    # Apply the Background Substraction mask\n",
        "    fgmask = fgbg.apply(frame_blur)\n",
        "    fgmask[fgmask == 127] = 0\n",
        "    # Threshold the Background Substracted frame to remove grey values\n",
        "    (threshold, frame_bw) = cv2.threshold(fgmask, 127, 255, cv2.THRESH_BINARY | cv2.THRESH_OTSU)\n",
        "    # Dilate the frame\n",
        "    frame_bw = cv2.dilate(frame_bw, None, iterations=2)\n",
        "    # Find the contours\n",
        "    contours,hierarchy = cv2.findContours(frame_bw, cv2.RETR_EXTERNAL, cv2.CHAIN_APPROX_SIMPLE) # cv2.RETR_EXTERNAL\n",
        "\n",
        "    if(framenum > 50): ## CAN EDIT THE LIMIT\n",
        "        # Develop a list of large contours\n",
        "        contours_thresholded = []\n",
        "        # Threshold the area for determining an contour is large enough or not\n",
        "        threshold_area = 1\n",
        "        v = 0\n",
        "\n",
        "        for cnt in contours:\n",
        "            area = cv2.contourArea(cnt)\n",
        "\n",
        "            if area > threshold_area:\n",
        "                contours_thresholded.append(cnt)\n",
        "                v += 1\n",
        "\n",
        "        # Sort the largest contours\n",
        "        largest_contours = sorted(contours_thresholded, key=cv2.contourArea)[-5:]\n",
        "        #print(\"largest contours : \" , largest_contours)\n",
        "        \n",
        "        # Determine the biggest contour\n",
        "        contour_sizes = [(cv2.contourArea(contour), contour) for contour in contours]\n",
        "        biggest_contour = max(contour_sizes, key=lambda x: x[0])[1]\n",
        "        # Determine the co-ordinates of the bounding box for the biggest contour\n",
        "        (xx, yy, ww, hh) = cv2.boundingRect(biggest_contour)\n",
        "        \n",
        "        #print(\"height/width = \" , hh/ww);\n",
        "        #print(framenum)\n",
        "       \n",
        "\n",
        "        # Determine the number of largest contours\n",
        "        LENGTH = len(largest_contours)\n",
        "\n",
        "        # Set a array that will store the nearest bounding boxes\n",
        "        rect = np.zeros((LENGTH * LENGTH, 4))\n",
        "\n",
        "        # Index for tracking the closest bounding boxes\n",
        "        f = 0\n",
        "        if LENGTH == 1:\n",
        "            (x1, y1, w1, h1) = cv2.boundingRect(largest_contours[0])\n",
        "            rect[f] = (x1, y1, x1 + w1, y1 + h1)\n",
        "            f += 1\n",
        "            #print(-1)\n",
        "\n",
        "        else:\n",
        "            # Compare pairwise bounding boxes for the proximity and combine them\n",
        "            for i, cnt1 in enumerate(largest_contours):\n",
        "                #print(\"cnt1 : \", len(cnt1))\n",
        "                #print(\"i = \",i)\n",
        "                x = i\n",
        "                if i != LENGTH - 1:\n",
        "                    for j, cnt2 in enumerate(largest_contours[i + 1:]):\n",
        "                       # print(\"cnt2 :\", len(cnt2))\n",
        "                        x = x + 1\n",
        "\n",
        "                        # Call closest proximity check function\n",
        "                        dist = find_if_close(cnt1, cnt2, 500)\n",
        "                        if dist == True: \n",
        "                            #print(\"Inside if\")\n",
        "                            (x1, y1, w1, h1) = cv2.boundingRect(cnt1)\n",
        "                            #print('x1,y1,w1,h1 = ' , (x1,y1,w1,h1))\n",
        "                            (x2, y2, w2, h2) = cv2.boundingRect(cnt2)\n",
        "                            #print('x1,y1,w1,h1 = ' , (x1,y1,w1,h1))\n",
        "                            # Find the extreme values of the close bboxes\n",
        "                            xl = min(x1, x2)\n",
        "                            yl = min(y1, y2)\n",
        "                            a = np.array((xl, yl))\n",
        "                            xr = max(x1 + w1, x2 + w2)\n",
        "                            yr = max(y1 + h1, y2 + h2)\n",
        "                            b = np.array((xr, yr))\n",
        "                            diag = np.linalg.norm(a - b)\n",
        "                            # Store the diagonal points\n",
        "                            rect[f] = (xl, yl, xr, yr)\n",
        "                            f += 1\n",
        "\n",
        "        # Find the extreme ends of the closest bounding boxes\n",
        "        X = np.array(rect[(rect[:, 0] != 0), 0])\n",
        "        Y = np.array(rect[(rect[:, 1] != 0), 1])\n",
        "        X1 = int(min(X))\n",
        "        Y1 = int(min(Y))\n",
        "        X2 = int(max(rect[:, 2]))\n",
        "        Y2 = int(max(rect[:, 3]))\n",
        "\n",
        "        # list of difference between the two legs for all the frames\n",
        "        w_list.append(ww)\n",
        "        c = cv2.rectangle(fgmask, (X1, Y1),(X2, Y2), (255,0,0), 1)\n",
        "        # Leg 1\n",
        "        cv2.circle(frame, (xx + ww, Y2), 2, (0, 255, 0), -1)\n",
        "        # Leg 2\n",
        "        cv2.circle(frame, (xx, Y2), 2, (255, 0, 0), -1)\n",
        "\n",
        "        # Alert when the person is falling\n",
        "        height = Y2-Y1\n",
        "        h_list_length = len(h_list)\n",
        "        if h_list_length > 0:\n",
        "            height_thresh = (2/3)*(sum(h_list)/len(h_list))\n",
        "            if height < height_thresh:\n",
        "                font = cv2.FONT_HERSHEY_SIMPLEX \n",
        "                cv2.putText(frame,  'FALLING!',  (50, 50),  font, 1,  (0, 0, 255),  2,  cv2.LINE_4) \n",
        "                \n",
        "                t = Video.get(cv2.CAP_PROP_POS_MSEC)\n",
        "                #print(t/1000) # timestamp in sec\n",
        "                print(\"1\") # denote fall\n",
        "            else:\n",
        "                font = cv2.FONT_HERSHEY_SIMPLEX \n",
        "                cv2.putText(frame,  'NO FALL !',  (50, 50),  font, 1,  (255,0,0),  2,  cv2.LINE_4) \n",
        "                print(-1)          \n",
        "\n",
        "        # List of height of the bounding box for all frames\n",
        "        h_list.append(height)\n",
        "        #H_list.append(hh)\n",
        "        #count = count +1\n",
        "        # The feed showing the bounding box\n",
        "        #cv2.imshow('Bounding box', c)\n",
        "        #cv2_imshow(c)\n",
        "        # The feed showing the feet points\n",
        "        cv2_imshow(frame)\n",
        "\n",
        "        # Plot of difference between both the feet\n",
        "        #plt.plot(w_list)\n",
        "        ## CAN CHANGE THE PLOT CONDITIONS\n",
        "        #plt.xticks(np.arange(0,100,2))\n",
        "        #plt.axes(ylim=[0, 400], xlim=[0, 100])\n",
        "        plt.pause(0.1)\n",
        "        \n",
        "        #print(h_list == H_list)\n",
        "        \n",
        "\n",
        "Video.release()\n",
        "cv2.destroyAllWindows()"
      ],
      "execution_count": null,
      "outputs": []
    },
    {
      "cell_type": "code",
      "metadata": {
        "id": "ESUTtiUzdZ0_"
      },
      "source": [],
      "execution_count": null,
      "outputs": []
    }
  ]
}